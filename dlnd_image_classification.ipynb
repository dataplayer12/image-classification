{
 "cells": [
  {
   "cell_type": "markdown",
   "metadata": {
    "collapsed": true
   },
   "source": [
    "# Image Classification\n",
    "In this project, you'll classify images from the [CIFAR-10 dataset](https://www.cs.toronto.edu/~kriz/cifar.html).  The dataset consists of airplanes, dogs, cats, and other objects. You'll preprocess the images, then train a convolutional neural network on all the samples. The images need to be normalized and the labels need to be one-hot encoded.  You'll get to apply what you learned and build a convolutional, max pooling, dropout, and fully connected layers.  At the end, you'll get to see your neural network's predictions on the sample images.\n",
    "## Get the Data\n",
    "Run the following cell to download the [CIFAR-10 dataset for python](https://www.cs.toronto.edu/~kriz/cifar-10-python.tar.gz)."
   ]
  },
  {
   "cell_type": "code",
   "execution_count": 3,
   "metadata": {},
   "outputs": [
    {
     "name": "stderr",
     "output_type": "stream",
     "text": [
      "CIFAR-10 Dataset: 171MB [02:47, 1.02MB/s]                              \n"
     ]
    },
    {
     "name": "stdout",
     "output_type": "stream",
     "text": [
      "All files found!\n"
     ]
    }
   ],
   "source": [
    "\"\"\"\n",
    "DON'T MODIFY ANYTHING IN THIS CELL THAT IS BELOW THIS LINE\n",
    "\"\"\"\n",
    "from urllib.request import urlretrieve\n",
    "from os.path import isfile, isdir\n",
    "from tqdm import tqdm\n",
    "import problem_unittests as tests\n",
    "import tarfile\n",
    "\n",
    "cifar10_dataset_folder_path = 'cifar-10-batches-py'\n",
    "\n",
    "# Use Floyd's cifar-10 dataset if present\n",
    "floyd_cifar10_location = '/input/cifar-10/python.tar.gz'\n",
    "if isfile(floyd_cifar10_location):\n",
    "    tar_gz_path = floyd_cifar10_location\n",
    "else:\n",
    "    tar_gz_path = 'cifar-10-python.tar.gz'\n",
    "\n",
    "class DLProgress(tqdm):\n",
    "    last_block = 0\n",
    "\n",
    "    def hook(self, block_num=1, block_size=1, total_size=None):\n",
    "        self.total = total_size\n",
    "        self.update((block_num - self.last_block) * block_size)\n",
    "        self.last_block = block_num\n",
    "\n",
    "if not isfile(tar_gz_path):\n",
    "    with DLProgress(unit='B', unit_scale=True, miniters=1, desc='CIFAR-10 Dataset') as pbar:\n",
    "        urlretrieve(\n",
    "            'https://www.cs.toronto.edu/~kriz/cifar-10-python.tar.gz',\n",
    "            tar_gz_path,\n",
    "            pbar.hook)\n",
    "\n",
    "if not isdir(cifar10_dataset_folder_path):\n",
    "    with tarfile.open(tar_gz_path) as tar:\n",
    "        tar.extractall()\n",
    "        tar.close()\n",
    "\n",
    "\n",
    "tests.test_folder_path(cifar10_dataset_folder_path)"
   ]
  },
  {
   "cell_type": "markdown",
   "metadata": {},
   "source": [
    "## Explore the Data\n",
    "The dataset is broken into batches to prevent your machine from running out of memory.  The CIFAR-10 dataset consists of 5 batches, named `data_batch_1`, `data_batch_2`, etc.. Each batch contains the labels and images that are one of the following:\n",
    "* airplane\n",
    "* automobile\n",
    "* bird\n",
    "* cat\n",
    "* deer\n",
    "* dog\n",
    "* frog\n",
    "* horse\n",
    "* ship\n",
    "* truck\n",
    "\n",
    "Understanding a dataset is part of making predictions on the data.  Play around with the code cell below by changing the `batch_id` and `sample_id`. The `batch_id` is the id for a batch (1-5). The `sample_id` is the id for a image and label pair in the batch.\n",
    "\n",
    "Ask yourself \"What are all possible labels?\", \"What is the range of values for the image data?\", \"Are the labels in order or random?\".  Answers to questions like these will help you preprocess the data and end up with better predictions."
   ]
  },
  {
   "cell_type": "code",
   "execution_count": 4,
   "metadata": {},
   "outputs": [
    {
     "name": "stdout",
     "output_type": "stream",
     "text": [
      "\n",
      "Stats of batch 1:\n",
      "Samples: 10000\n",
      "Label Counts: {0: 1005, 1: 974, 2: 1032, 3: 1016, 4: 999, 5: 937, 6: 1030, 7: 1001, 8: 1025, 9: 981}\n",
      "First 20 Labels: [6, 9, 9, 4, 1, 1, 2, 7, 8, 3, 4, 7, 7, 2, 9, 9, 9, 3, 2, 6]\n",
      "\n",
      "Example of Image 5:\n",
      "Image - Min Value: 0 Max Value: 252\n",
      "Image - Shape: (32, 32, 3)\n",
      "Label - Label Id: 1 Name: automobile\n"
     ]
    },
    {
     "data": {
      "image/png": "[encoded data removed]",
      "text/plain": [
       "<matplotlib.figure.Figure at 0x120e8a358>"
      ]
     },
     "metadata": {
      "image/png": {
       "height": 250,
       "width": 253
      }
     },
     "output_type": "display_data"
    }
   ],
   "source": [
    "%matplotlib inline\n",
    "%config InlineBackend.figure_format = 'retina'\n",
    "\n",
    "import helper\n",
    "import numpy as np\n",
    "\n",
    "# Explore the dataset\n",
    "batch_id = 1\n",
    "sample_id = 5\n",
    "helper.display_stats(cifar10_dataset_folder_path, batch_id, sample_id)"
   ]
  },
  {
   "cell_type": "markdown",
   "metadata": {},
   "source": [
    "## Implement Preprocess Functions\n",
    "### Normalize\n",
    "In the cell below, implement the `normalize` function to take in image data, `x`, and return it as a normalized Numpy array. The values should be in the range of 0 to 1, inclusive.  The return object should be the same shape as `x`."
   ]
  },
  {
   "cell_type": "code",
   "execution_count": 5,
   "metadata": {},
   "outputs": [
    {
     "name": "stdout",
     "output_type": "stream",
     "text": [
      "Tests Passed\n"
     ]
    }
   ],
   "source": [
    "def normalize(x):\n",
    "    \"\"\"\n",
    "    Normalize a list of sample image data in the range of 0 to 1\n",
    "    : x: List of image data.  The image shape is (32, 32, 3)\n",
    "    : return: Numpy array of normalize data\n",
    "    \"\"\"\n",
    "    # TODO: Implement Function\n",
    "    return x/255.0\n",
    "\n",
    "\n",
    "\"\"\"\n",
    "DON'T MODIFY ANYTHING IN THIS CELL THAT IS BELOW THIS LINE\n",
    "\"\"\"\n",
    "tests.test_normalize(normalize)"
   ]
  },
  {
   "cell_type": "markdown",
   "metadata": {},
   "source": [
    "### One-hot encode\n",
    "Just like the previous code cell, you'll be implementing a function for preprocessing.  This time, you'll implement the `one_hot_encode` function. The input, `x`, are a list of labels.  Implement the function to return the list of labels as One-Hot encoded Numpy array.  The possible values for labels are 0 to 9. The one-hot encoding function should return the same encoding for each value between each call to `one_hot_encode`.  Make sure to save the map of encodings outside the function.\n",
    "\n",
    "Hint: Don't reinvent the wheel."
   ]
  },
  {
   "cell_type": "code",
   "execution_count": 11,
   "metadata": {},
   "outputs": [
    {
     "name": "stdout",
     "output_type": "stream",
     "text": [
      "Tests Passed\n"
     ]
    }
   ],
   "source": [
    "def one_hot_encode(x):\n",
    "    \"\"\"\n",
    "    One hot encode a list of sample labels. Return a one-hot encoded vector for each label.\n",
    "    : x: List of sample Labels\n",
    "    : return: Numpy array of one-hot encoded labels\n",
    "    \"\"\"\n",
    "    # TODO: Implement Function\n",
    "    encodings=np.zeros((len(x),10))\n",
    "    for i in range(len(x)):\n",
    "        encodings[i,x[i]]=1\n",
    "    return encodings\n",
    "\n",
    "#print(one_hot_encode([1,3,4,7,2]))\n",
    "\n",
    "\"\"\"\n",
    "DON'T MODIFY ANYTHING IN THIS CELL THAT IS BELOW THIS LINE\n",
    "\"\"\"\n",
    "tests.test_one_hot_encode(one_hot_encode)"
   ]
  },
  {
   "cell_type": "markdown",
   "metadata": {},
   "source": [
    "### Randomize Data\n",
    "As you saw from exploring the data above, the order of the samples are randomized.  It doesn't hurt to randomize it again, but you don't need to for this dataset."
   ]
  },
  {
   "cell_type": "markdown",
   "metadata": {},
   "source": [
    "## Preprocess all the data and save it\n",
    "Running the code cell below will preprocess all the CIFAR-10 data and save it to file. The code below also uses 10% of the training data for validation."
   ]
  },
  {
   "cell_type": "code",
   "execution_count": 12,
   "metadata": {
    "collapsed": true
   },
   "outputs": [],
   "source": [
    "\"\"\"\n",
    "DON'T MODIFY ANYTHING IN THIS CELL\n",
    "\"\"\"\n",
    "# Preprocess Training, Validation, and Testing Data\n",
    "helper.preprocess_and_save_data(cifar10_dataset_folder_path, normalize, one_hot_encode)"
   ]
  },
  {
   "cell_type": "markdown",
   "metadata": {},
   "source": [
    "# Check Point\n",
    "This is your first checkpoint.  If you ever decide to come back to this notebook or have to restart the notebook, you can start from here.  The preprocessed data has been saved to disk."
   ]
  },
  {
   "cell_type": "code",
   "execution_count": 55,
   "metadata": {
    "collapsed": true
   },
   "outputs": [],
   "source": [
    "\"\"\"\n",
    "DON'T MODIFY ANYTHING IN THIS CELL\n",
    "\"\"\"\n",
    "import pickle\n",
    "import problem_unittests as tests\n",
    "import helper\n",
    "\n",
    "# Load the Preprocessed Validation data\n",
    "valid_features, valid_labels = pickle.load(open('preprocess_validation.p', mode='rb'))"
   ]
  },
  {
   "cell_type": "markdown",
   "metadata": {},
   "source": [
    "## Build the network\n",
    "For the neural network, you'll build each layer into a function.  Most of the code you've seen has been outside of functions. To test your code more thoroughly, we require that you put each layer in a function.  This allows us to give you better feedback and test for simple mistakes using our unittests before you submit your project.\n",
    "\n",
    ">**Note:** If you're finding it hard to dedicate enough time for this course each week, we've provided a small shortcut to this part of the project. In the next couple of problems, you'll have the option to use classes from the [TensorFlow Layers](https://www.tensorflow.org/api_docs/python/tf/layers) or [TensorFlow Layers (contrib)](https://www.tensorflow.org/api_guides/python/contrib.layers) packages to build each layer, except the layers you build in the \"Convolutional and Max Pooling Layer\" section.  TF Layers is similar to Keras's and TFLearn's abstraction to layers, so it's easy to pickup.\n",
    "\n",
    ">However, if you would like to get the most out of this course, try to solve all the problems _without_ using anything from the TF Layers packages. You **can** still use classes from other packages that happen to have the same name as ones you find in TF Layers! For example, instead of using the TF Layers version of the `conv2d` class, [tf.layers.conv2d](https://www.tensorflow.org/api_docs/python/tf/layers/conv2d), you would want to use the TF Neural Network version of `conv2d`, [tf.nn.conv2d](https://www.tensorflow.org/api_docs/python/tf/nn/conv2d). \n",
    "\n",
    "Let's begin!\n",
    "\n",
    "### Input\n",
    "The neural network needs to read the image data, one-hot encoded labels, and dropout keep probability. Implement the following functions\n",
    "* Implement `neural_net_image_input`\n",
    " * Return a [TF Placeholder](https://www.tensorflow.org/api_docs/python/tf/placeholder)\n",
    " * Set the shape using `image_shape` with batch size set to `None`.\n",
    " * Name the TensorFlow placeholder \"x\" using the TensorFlow `name` parameter in the [TF Placeholder](https://www.tensorflow.org/api_docs/python/tf/placeholder).\n",
    "* Implement `neural_net_label_input`\n",
    " * Return a [TF Placeholder](https://www.tensorflow.org/api_docs/python/tf/placeholder)\n",
    " * Set the shape using `n_classes` with batch size set to `None`.\n",
    " * Name the TensorFlow placeholder \"y\" using the TensorFlow `name` parameter in the [TF Placeholder](https://www.tensorflow.org/api_docs/python/tf/placeholder).\n",
    "* Implement `neural_net_keep_prob_input`\n",
    " * Return a [TF Placeholder](https://www.tensorflow.org/api_docs/python/tf/placeholder) for dropout keep probability.\n",
    " * Name the TensorFlow placeholder \"keep_prob\" using the TensorFlow `name` parameter in the [TF Placeholder](https://www.tensorflow.org/api_docs/python/tf/placeholder).\n",
    "\n",
    "These names will be used at the end of the project to load your saved model.\n",
    "\n",
    "Note: `None` for shapes in TensorFlow allow for a dynamic size."
   ]
  },
  {
   "cell_type": "code",
   "execution_count": 56,
   "metadata": {},
   "outputs": [
    {
     "name": "stdout",
     "output_type": "stream",
     "text": [
      "Image Input Tests Passed.\n",
      "Label Input Tests Passed.\n",
      "Keep Prob Tests Passed.\n"
     ]
    }
   ],
   "source": [
    "import tensorflow as tf\n",
    "\n",
    "def neural_net_image_input(image_shape):\n",
    "    \"\"\"\n",
    "    Return a Tensor for a batch of image input\n",
    "    : image_shape: Shape of the images\n",
    "    : return: Tensor for image input.\n",
    "    \"\"\"\n",
    "    # TODO: Implement Function\n",
    "    return tf.placeholder(tf.float32,[None,image_shape[0],image_shape[1],image_shape[2]],name='x')\n",
    "\n",
    "\n",
    "def neural_net_label_input(n_classes):\n",
    "    \"\"\"\n",
    "    Return a Tensor for a batch of label input\n",
    "    : n_classes: Number of classes\n",
    "    : return: Tensor for label input.\n",
    "    \"\"\"\n",
    "    # TODO: Implement Function\n",
    "    return tf.placeholder(tf.float32, [None,n_classes],name='y')\n",
    "\n",
    "\n",
    "def neural_net_keep_prob_input():\n",
    "    \"\"\"\n",
    "    Return a Tensor for keep probability\n",
    "    : return: Tensor for keep probability.\n",
    "    \"\"\"\n",
    "    # TODO: Implement Function\n",
    "    return tf.placeholder(tf.float32,name='keep_prob')\n",
    "\n",
    "\n",
    "\"\"\"\n",
    "DON'T MODIFY ANYTHING IN THIS CELL THAT IS BELOW THIS LINE\n",
    "\"\"\"\n",
    "tf.reset_default_graph()\n",
    "tests.test_nn_image_inputs(neural_net_image_input)\n",
    "tests.test_nn_label_inputs(neural_net_label_input)\n",
    "tests.test_nn_keep_prob_inputs(neural_net_keep_prob_input)"
   ]
  },
  {
   "cell_type": "markdown",
   "metadata": {},
   "source": [
    "### Convolution and Max Pooling Layer\n",
    "Convolution layers have a lot of success with images. For this code cell, you should implement the function `conv2d_maxpool` to apply convolution then max pooling:\n",
    "* Create the weight and bias using `conv_ksize`, `conv_num_outputs` and the shape of `x_tensor`.\n",
    "* Apply a convolution to `x_tensor` using weight and `conv_strides`.\n",
    " * We recommend you use same padding, but you're welcome to use any padding.\n",
    "* Add bias\n",
    "* Add a nonlinear activation to the convolution.\n",
    "* Apply Max Pooling using `pool_ksize` and `pool_strides`.\n",
    " * We recommend you use same padding, but you're welcome to use any padding.\n",
    "\n",
    "**Note:** You **can't** use [TensorFlow Layers](https://www.tensorflow.org/api_docs/python/tf/layers) or [TensorFlow Layers (contrib)](https://www.tensorflow.org/api_guides/python/contrib.layers) for **this** layer, but you can still use TensorFlow's [Neural Network](https://www.tensorflow.org/api_docs/python/tf/nn) package. You may still use the shortcut option for all the **other** layers."
   ]
  },
  {
   "cell_type": "code",
   "execution_count": 57,
   "metadata": {
    "scrolled": false
   },
   "outputs": [
    {
     "name": "stdout",
     "output_type": "stream",
     "text": [
      "Tests Passed\n"
     ]
    }
   ],
   "source": [
    "def conv2d_maxpool(x_tensor, conv_num_outputs, conv_ksize, conv_strides, pool_ksize, pool_strides):\n",
    "    \"\"\"\n",
    "    Apply convolution then max pooling to x_tensor\n",
    "    :param x_tensor: TensorFlow Tensor\n",
    "    :param conv_num_outputs: Number of outputs for the convolutional layer\n",
    "    :param conv_ksize: kernal size 2-D Tuple for the convolutional layer\n",
    "    :param conv_strides: Stride 2-D Tuple for convolution\n",
    "    :param pool_ksize: kernal size 2-D Tuple for pool\n",
    "    :param pool_strides: Stride 2-D Tuple for pool\n",
    "    : return: A tensor that represents convolution and max pooling of x_tensor\n",
    "    \"\"\"\n",
    "    # TODO: Implement Function\n",
    "    if x_tensor.get_shape().as_list()[0] is None:\n",
    "        std=1/16.0 #assuming batch size of 256\n",
    "    else:\n",
    "        std=1/np.sqrt(x_tensor.get_shape().as_list()[0])\n",
    "        \n",
    "    input_channels=x_tensor.get_shape().as_list()[3]\n",
    "    weights=tf.Variable(tf.truncated_normal([conv_ksize[0],conv_ksize[1],input_channels,conv_num_outputs],stddev=std))\n",
    "    biases=tf.Variable(tf.truncated_normal([conv_num_outputs],stddev=std))\n",
    "\n",
    "    convlayer=tf.nn.conv2d(x_tensor,weights,strides=[1, conv_strides[0],conv_strides[1],1],padding='SAME')\n",
    "    convlayer=tf.nn.bias_add(convlayer,biases)\n",
    "    convlayer=tf.nn.relu(convlayer)\n",
    "\n",
    "    \n",
    "    maxpool=tf.nn.max_pool(convlayer,ksize=[1, pool_ksize[0],pool_ksize[1],1],strides=[1, pool_strides[0],pool_strides[1],1],padding='SAME')\n",
    "    \n",
    "    return maxpool\n",
    "\n",
    "\n",
    "\"\"\"\n",
    "DON'T MODIFY ANYTHING IN THIS CELL THAT IS BELOW THIS LINE\n",
    "\"\"\"\n",
    "tests.test_con_pool(conv2d_maxpool)"
   ]
  },
  {
   "cell_type": "markdown",
   "metadata": {},
   "source": [
    "### Flatten Layer\n",
    "Implement the `flatten` function to change the dimension of `x_tensor` from a 4-D tensor to a 2-D tensor.  The output should be the shape (*Batch Size*, *Flattened Image Size*). Shortcut option: you can use classes from the [TensorFlow Layers](https://www.tensorflow.org/api_docs/python/tf/layers) or [TensorFlow Layers (contrib)](https://www.tensorflow.org/api_guides/python/contrib.layers) packages for this layer. For more of a challenge, only use other TensorFlow packages."
   ]
  },
  {
   "cell_type": "code",
   "execution_count": 58,
   "metadata": {},
   "outputs": [
    {
     "name": "stdout",
     "output_type": "stream",
     "text": [
      "Tests Passed\n"
     ]
    }
   ],
   "source": [
    "def flatten(x_tensor):\n",
    "    \"\"\"\n",
    "    Flatten x_tensor to (Batch Size, Flattened Image Size)\n",
    "    : x_tensor: A tensor of size (Batch Size, ...), where ... are the image dimensions.\n",
    "    : return: A tensor of size (Batch Size, Flattened Image Size).\n",
    "    \"\"\"\n",
    "    # TODO: Implement Function\n",
    "    shapes=x_tensor.get_shape().as_list()\n",
    "    flattened_shape=[-1,shapes[1]*shapes[2]*shapes[3]]\n",
    "    #print(flattened_shape)\n",
    "    return tf.reshape(x_tensor,shape=flattened_shape)\n",
    "\n",
    "\n",
    "\"\"\"\n",
    "DON'T MODIFY ANYTHING IN THIS CELL THAT IS BELOW THIS LINE\n",
    "\"\"\"\n",
    "tests.test_flatten(flatten)"
   ]
  },
  {
   "cell_type": "markdown",
   "metadata": {},
   "source": [
    "### Fully-Connected Layer\n",
    "Implement the `fully_conn` function to apply a fully connected layer to `x_tensor` with the shape (*Batch Size*, *num_outputs*). Shortcut option: you can use classes from the [TensorFlow Layers](https://www.tensorflow.org/api_docs/python/tf/layers) or [TensorFlow Layers (contrib)](https://www.tensorflow.org/api_guides/python/contrib.layers) packages for this layer. For more of a challenge, only use other TensorFlow packages."
   ]
  },
  {
   "cell_type": "code",
   "execution_count": 59,
   "metadata": {},
   "outputs": [
    {
     "name": "stdout",
     "output_type": "stream",
     "text": [
      "Tests Passed\n"
     ]
    }
   ],
   "source": [
    "def fully_conn(x_tensor, num_outputs):\n",
    "    \"\"\"\n",
    "    Apply a fully connected layer to x_tensor using weight and bias\n",
    "    : x_tensor: A 2-D tensor where the first dimension is batch size.\n",
    "    : num_outputs: The number of output that the new tensor should be.\n",
    "    : return: A 2-D tensor where the second dimension is num_outputs.\n",
    "    \"\"\"\n",
    "    # TODO: Implement Function\n",
    "    if x_tensor.get_shape().as_list()[0] is None:\n",
    "        std=1/16.0\n",
    "    else:\n",
    "        std=1/np.sqrt(x_tensor.get_shape().as_list()[0])\n",
    "        \n",
    "    fcweights=tf.Variable(tf.truncated_normal([x_tensor.get_shape().as_list()[1],num_outputs],stddev=std))\n",
    "    biases=tf.Variable(tf.truncated_normal([num_outputs],stddev=std))\n",
    "    layerout=tf.add(tf.matmul(x_tensor,fcweights),biases)\n",
    "    layerout=tf.nn.relu(layerout)\n",
    "    return layerout\n",
    "\n",
    "\n",
    "\"\"\"\n",
    "DON'T MODIFY ANYTHING IN THIS CELL THAT IS BELOW THIS LINE\n",
    "\"\"\"\n",
    "tests.test_fully_conn(fully_conn)"
   ]
  },
  {
   "cell_type": "markdown",
   "metadata": {},
   "source": [
    "### Output Layer\n",
    "Implement the `output` function to apply a fully connected layer to `x_tensor` with the shape (*Batch Size*, *num_outputs*). Shortcut option: you can use classes from the [TensorFlow Layers](https://www.tensorflow.org/api_docs/python/tf/layers) or [TensorFlow Layers (contrib)](https://www.tensorflow.org/api_guides/python/contrib.layers) packages for this layer. For more of a challenge, only use other TensorFlow packages.\n",
    "\n",
    "**Note:** Activation, softmax, or cross entropy should **not** be applied to this."
   ]
  },
  {
   "cell_type": "code",
   "execution_count": 61,
   "metadata": {},
   "outputs": [
    {
     "name": "stdout",
     "output_type": "stream",
     "text": [
      "Tests Passed\n"
     ]
    }
   ],
   "source": [
    "def output(x_tensor, num_outputs):\n",
    "    \"\"\"\n",
    "    Apply a output layer to x_tensor using weight and bias\n",
    "    : x_tensor: A 2-D tensor where the first dimension is batch size.\n",
    "    : num_outputs: The number of output that the new tensor should be.\n",
    "    : return: A 2-D tensor where the second dimension is num_outputs.\n",
    "    \"\"\"\n",
    "    # TODO: Implement Function\n",
    "    if x_tensor.get_shape().as_list()[0] is None:\n",
    "        std=1/16.0\n",
    "    else:\n",
    "        std=1/np.sqrt(x_tensor.get_shape().as_list()[0])\n",
    "        \n",
    "    out_weights=tf.Variable(tf.truncated_normal([x_tensor.get_shape().as_list()[1],num_outputs],stddev=std))\n",
    "    out_biases=tf.Variable(tf.truncated_normal([num_outputs],stddev=std))\n",
    "    network_output=tf.add(tf.matmul(x_tensor,out_weights),out_biases)\n",
    "    #network_output=tf.nn.relu(layerout)\n",
    "    return (network_output)\n",
    "\n",
    "\n",
    "\"\"\"\n",
    "DON'T MODIFY ANYTHING IN THIS CELL THAT IS BELOW THIS LINE\n",
    "\"\"\"\n",
    "tests.test_output(output)"
   ]
  },
  {
   "cell_type": "markdown",
   "metadata": {},
   "source": [
    "### Create Convolutional Model\n",
    "Implement the function `conv_net` to create a convolutional neural network model. The function takes in a batch of images, `x`, and outputs logits.  Use the layers you created above to create this model:\n",
    "\n",
    "* Apply 1, 2, or 3 Convolution and Max Pool layers\n",
    "* Apply a Flatten Layer\n",
    "* Apply 1, 2, or 3 Fully Connected Layers\n",
    "* Apply an Output Layer\n",
    "* Return the output\n",
    "* Apply [TensorFlow's Dropout](https://www.tensorflow.org/api_docs/python/tf/nn/dropout) to one or more layers in the model using `keep_prob`. "
   ]
  },
  {
   "cell_type": "code",
   "execution_count": 62,
   "metadata": {},
   "outputs": [
    {
     "name": "stdout",
     "output_type": "stream",
     "text": [
      "Neural Network Built!\n"
     ]
    }
   ],
   "source": [
    "def conv_net(x, keep_prob):\n",
    "    \"\"\"\n",
    "    Create a convolutional neural network model\n",
    "    : x: Placeholder tensor that holds image data.\n",
    "    : keep_prob: Placeholder tensor that hold dropout keep probability.\n",
    "    : return: Tensor that represents logits\n",
    "    \"\"\"\n",
    "    # TODO: Apply 1, 2, or 3 Convolution and Max Pool layers\n",
    "    #    Play around with different number of outputs, kernel size and stride\n",
    "    # Function Definition from Above:\n",
    "    #    conv2d_maxpool(x_tensor, conv_num_outputs, conv_ksize, conv_strides, pool_ksize, pool_strides)\n",
    "    layer1=conv2d_maxpool(x,conv_num_outputs=16,conv_ksize=[5,5],conv_strides=[2,2],pool_ksize=[2,2],pool_strides=[2,2])\n",
    "    #layer1=tf.nn.dropout(layer1,keep_prob=keep_prob)\n",
    "    layer2=conv2d_maxpool(layer1,conv_num_outputs=32,conv_ksize=[3,3],conv_strides=[1,1],pool_ksize=[2,2],pool_strides=[2,2])\n",
    "    layer2=tf.nn.dropout(layer2,keep_prob=keep_prob)\n",
    "    layer3=conv2d_maxpool(layer2,conv_num_outputs=64,conv_ksize=[3,3],conv_strides=[1,1],pool_ksize=[2,2],pool_strides=[2,2])\n",
    "    layer3=tf.nn.dropout(layer3,keep_prob=keep_prob)\n",
    "    # TODO: Apply a Flatten Layer\n",
    "    # Function Definition from Above:\n",
    "    #   flatten(x_tensor)\n",
    "    flattened=flatten(layer3)\n",
    "\n",
    "    # TODO: Apply 1, 2, or 3 Fully Connected Layers\n",
    "    #    Play around with different number of outputs\n",
    "    # Function Definition from Above:\n",
    "    #   fully_conn(x_tensor, num_outputs)\n",
    "    \n",
    "    fc1=fully_conn(flattened,1024)\n",
    "    #fc1=tf.nn.dropout(fc1,keep_prob=keep_prob)\n",
    "    fc2=fully_conn(fc1,64)\n",
    "    fc2=tf.nn.dropout(fc2,keep_prob=keep_prob)\n",
    "    # TODO: Apply an Output Layer\n",
    "    #    Set this to the number of classes\n",
    "    # Function Definition from Above:\n",
    "    #   output(x_tensor, num_outputs)\n",
    "    network_output=output(fc2,10)\n",
    "    \n",
    "    # TODO: return output\n",
    "    return network_output\n",
    "\n",
    "\n",
    "\"\"\"\n",
    "DON'T MODIFY ANYTHING IN THIS CELL THAT IS BELOW THIS LINE\n",
    "\"\"\"\n",
    "\n",
    "##############################\n",
    "## Build the Neural Network ##\n",
    "##############################\n",
    "\n",
    "# Remove previous weights, bias, inputs, etc..\n",
    "tf.reset_default_graph()\n",
    "\n",
    "# Inputs\n",
    "x = neural_net_image_input((32, 32, 3))\n",
    "y = neural_net_label_input(10)\n",
    "keep_prob = neural_net_keep_prob_input()\n",
    "\n",
    "# Model\n",
    "logits = conv_net(x, keep_prob)\n",
    "\n",
    "# Name logits Tensor, so that is can be loaded from disk after training\n",
    "logits = tf.identity(logits, name='logits')\n",
    "\n",
    "# Loss and Optimizer\n",
    "cost = tf.reduce_mean(tf.nn.softmax_cross_entropy_with_logits(logits=logits, labels=y))\n",
    "optimizer = tf.train.AdamOptimizer().minimize(cost)\n",
    "\n",
    "# Accuracy\n",
    "correct_pred = tf.equal(tf.argmax(logits, 1), tf.argmax(y, 1))\n",
    "accuracy = tf.reduce_mean(tf.cast(correct_pred, tf.float32), name='accuracy')\n",
    "\n",
    "tests.test_conv_net(conv_net)"
   ]
  },
  {
   "cell_type": "markdown",
   "metadata": {},
   "source": [
    "## Train the Neural Network\n",
    "### Single Optimization\n",
    "Implement the function `train_neural_network` to do a single optimization.  The optimization should use `optimizer` to optimize in `session` with a `feed_dict` of the following:\n",
    "* `x` for image input\n",
    "* `y` for labels\n",
    "* `keep_prob` for keep probability for dropout\n",
    "\n",
    "This function will be called for each batch, so `tf.global_variables_initializer()` has already been called.\n",
    "\n",
    "Note: Nothing needs to be returned. This function is only optimizing the neural network."
   ]
  },
  {
   "cell_type": "code",
   "execution_count": 63,
   "metadata": {},
   "outputs": [
    {
     "name": "stdout",
     "output_type": "stream",
     "text": [
      "Tests Passed\n"
     ]
    }
   ],
   "source": [
    "def train_neural_network(session, optimizer, keep_probability, feature_batch, label_batch):\n",
    "    \"\"\"\n",
    "    Optimize the session on a batch of images and labels\n",
    "    : session: Current TensorFlow session\n",
    "    : optimizer: TensorFlow optimizer function\n",
    "    : keep_probability: keep probability\n",
    "    : feature_batch: Batch of Numpy image data\n",
    "    : label_batch: Batch of Numpy label data\n",
    "    \"\"\"\n",
    "    # TODO: Implement Function\n",
    "    session.run(optimizer,feed_dict={x: feature_batch, y: label_batch, keep_prob: keep_probability})\n",
    "\n",
    "\n",
    "\"\"\"\n",
    "DON'T MODIFY ANYTHING IN THIS CELL THAT IS BELOW THIS LINE\n",
    "\"\"\"\n",
    "tests.test_train_nn(train_neural_network)"
   ]
  },
  {
   "cell_type": "markdown",
   "metadata": {},
   "source": [
    "### Show Stats\n",
    "Implement the function `print_stats` to print loss and validation accuracy.  Use the global variables `valid_features` and `valid_labels` to calculate validation accuracy.  Use a keep probability of `1.0` to calculate the loss and validation accuracy."
   ]
  },
  {
   "cell_type": "code",
   "execution_count": 64,
   "metadata": {
    "collapsed": true
   },
   "outputs": [],
   "source": [
    "def print_stats(session, feature_batch, label_batch, cost, accuracy):\n",
    "    \"\"\"\n",
    "    Print information about loss and validation accuracy\n",
    "    : session: Current TensorFlow session\n",
    "    : feature_batch: Batch of Numpy image data\n",
    "    : label_batch: Batch of Numpy label data\n",
    "    : cost: TensorFlow cost function\n",
    "    : accuracy: TensorFlow accuracy function\n",
    "    \"\"\"\n",
    "    # TODO: Implement Function\n",
    "    train_cost,train_acc=session.run([cost,accuracy],feed_dict={x:feature_batch, y: label_batch, keep_prob: 1.0})\n",
    "    valid_acc=session.run(accuracy,feed_dict={x:valid_features, y:valid_labels, keep_prob: 1.0})\n",
    "    print('Training: Accuracy= ', train_acc,', cost= ',train_cost, ', Validation: accuracy=', valid_acc)"
   ]
  },
  {
   "cell_type": "markdown",
   "metadata": {},
   "source": [
    "### Hyperparameters\n",
    "Tune the following parameters:\n",
    "* Set `epochs` to the number of iterations until the network stops learning or start overfitting\n",
    "* Set `batch_size` to the highest number that your machine has memory for.  Most people set them to common sizes of memory:\n",
    " * 64\n",
    " * 128\n",
    " * 256\n",
    " * ...\n",
    "* Set `keep_probability` to the probability of keeping a node using dropout"
   ]
  },
  {
   "cell_type": "code",
   "execution_count": 65,
   "metadata": {
    "collapsed": true
   },
   "outputs": [],
   "source": [
    "# TODO: Tune Parameters\n",
    "epochs = 50\n",
    "batch_size = 128\n",
    "keep_probability = 0.75"
   ]
  },
  {
   "cell_type": "markdown",
   "metadata": {},
   "source": [
    "### Train on a Single CIFAR-10 Batch\n",
    "Instead of training the neural network on all the CIFAR-10 batches of data, let's use a single batch. This should save time while you iterate on the model to get a better accuracy.  Once the final validation accuracy is 50% or greater, run the model on all the data in the next section."
   ]
  },
  {
   "cell_type": "code",
   "execution_count": 53,
   "metadata": {},
   "outputs": [
    {
     "name": "stdout",
     "output_type": "stream",
     "text": [
      "Checking the Training on a Single Batch...\n",
      "Epoch  1, CIFAR-10 Batch 1:  Training: Accuracy=  0.175 , cost=  27940.5 , Validation: accuracy= 0.106\n",
      "Epoch  2, CIFAR-10 Batch 1:  Training: Accuracy=  0.125 , cost=  250.608 , Validation: accuracy= 0.1056\n",
      "Epoch  3, CIFAR-10 Batch 1:  Training: Accuracy=  0.125 , cost=  2.61716 , Validation: accuracy= 0.105\n",
      "Epoch  4, CIFAR-10 Batch 1:  Training: Accuracy=  0.125 , cost=  2.5625 , Validation: accuracy= 0.105\n",
      "Epoch  5, CIFAR-10 Batch 1:  Training: Accuracy=  0.125 , cost=  2.51762 , Validation: accuracy= 0.105\n",
      "Epoch  6, CIFAR-10 Batch 1:  Training: Accuracy=  0.125 , cost=  2.48145 , Validation: accuracy= 0.105\n",
      "Epoch  7, CIFAR-10 Batch 1:  Training: Accuracy=  0.125 , cost=  2.45147 , Validation: accuracy= 0.105\n",
      "Epoch  8, CIFAR-10 Batch 1:  Training: Accuracy=  0.125 , cost=  2.42675 , Validation: accuracy= 0.105\n",
      "Epoch  9, CIFAR-10 Batch 1:  Training: Accuracy=  0.125 , cost=  2.40612 , Validation: accuracy= 0.105\n",
      "Epoch 10, CIFAR-10 Batch 1:  Training: Accuracy=  0.125 , cost=  2.38865 , Validation: accuracy= 0.105\n"
     ]
    }
   ],
   "source": [
    "\"\"\"\n",
    "DON'T MODIFY ANYTHING IN THIS CELL\n",
    "\"\"\"\n",
    "print('Checking the Training on a Single Batch...')\n",
    "with tf.Session() as sess:\n",
    "    # Initializing the variables\n",
    "    sess.run(tf.global_variables_initializer())\n",
    "    \n",
    "    # Training cycle\n",
    "    for epoch in range(epochs):\n",
    "        batch_i = 1\n",
    "        for batch_features, batch_labels in helper.load_preprocess_training_batch(batch_i, batch_size):\n",
    "            train_neural_network(sess, optimizer, keep_probability, batch_features, batch_labels)\n",
    "        print('Epoch {:>2}, CIFAR-10 Batch {}:  '.format(epoch + 1, batch_i), end='')\n",
    "        print_stats(sess, batch_features, batch_labels, cost, accuracy)"
   ]
  },
  {
   "cell_type": "markdown",
   "metadata": {},
   "source": [
    "### Fully Train the Model\n",
    "Now that you got a good accuracy with a single CIFAR-10 batch, try it with all five batches."
   ]
  },
  {
   "cell_type": "code",
   "execution_count": 66,
   "metadata": {},
   "outputs": [
    {
     "name": "stdout",
     "output_type": "stream",
     "text": [
      "Training...\n",
      "Epoch  1, CIFAR-10 Batch 1:  Training: Accuracy=  0.2 , cost=  2.16287 , Validation: accuracy= 0.2422\n",
      "Epoch  1, CIFAR-10 Batch 2:  Training: Accuracy=  0.275 , cost=  1.9705 , Validation: accuracy= 0.3224\n",
      "Epoch  1, CIFAR-10 Batch 3:  Training: Accuracy=  0.325 , cost=  1.70766 , Validation: accuracy= 0.3326\n",
      "Epoch  1, CIFAR-10 Batch 4:  Training: Accuracy=  0.35 , cost=  1.68411 , Validation: accuracy= 0.395\n",
      "Epoch  1, CIFAR-10 Batch 5:  Training: Accuracy=  0.375 , cost=  1.73028 , Validation: accuracy= 0.414\n",
      "Epoch  2, CIFAR-10 Batch 1:  Training: Accuracy=  0.375 , cost=  1.84464 , Validation: accuracy= 0.4284\n",
      "Epoch  2, CIFAR-10 Batch 2:  Training: Accuracy=  0.425 , cost=  1.63293 , Validation: accuracy= 0.4232\n",
      "Epoch  2, CIFAR-10 Batch 3:  Training: Accuracy=  0.55 , cost=  1.33558 , Validation: accuracy= 0.4408\n",
      "Epoch  2, CIFAR-10 Batch 4:  Training: Accuracy=  0.35 , cost=  1.56148 , Validation: accuracy= 0.459\n",
      "Epoch  2, CIFAR-10 Batch 5:  Training: Accuracy=  0.475 , cost=  1.55279 , Validation: accuracy= 0.4578\n",
      "Epoch  3, CIFAR-10 Batch 1:  Training: Accuracy=  0.475 , cost=  1.67391 , Validation: accuracy= 0.4708\n",
      "Epoch  3, CIFAR-10 Batch 2:  Training: Accuracy=  0.5 , cost=  1.47541 , Validation: accuracy= 0.4568\n",
      "Epoch  3, CIFAR-10 Batch 3:  Training: Accuracy=  0.55 , cost=  1.18188 , Validation: accuracy= 0.4746\n",
      "Epoch  3, CIFAR-10 Batch 4:  Training: Accuracy=  0.475 , cost=  1.45816 , Validation: accuracy= 0.4916\n",
      "Epoch  3, CIFAR-10 Batch 5:  Training: Accuracy=  0.6 , cost=  1.46484 , Validation: accuracy= 0.49\n",
      "Epoch  4, CIFAR-10 Batch 1:  Training: Accuracy=  0.475 , cost=  1.56743 , Validation: accuracy= 0.4798\n",
      "Epoch  4, CIFAR-10 Batch 2:  Training: Accuracy=  0.5 , cost=  1.33391 , Validation: accuracy= 0.4904\n",
      "Epoch  4, CIFAR-10 Batch 3:  Training: Accuracy=  0.65 , cost=  1.17289 , Validation: accuracy= 0.49\n",
      "Epoch  4, CIFAR-10 Batch 4:  Training: Accuracy=  0.475 , cost=  1.35124 , Validation: accuracy= 0.5162\n",
      "Epoch  4, CIFAR-10 Batch 5:  Training: Accuracy=  0.55 , cost=  1.42269 , Validation: accuracy= 0.502\n",
      "Epoch  5, CIFAR-10 Batch 1:  Training: Accuracy=  0.575 , cost=  1.42537 , Validation: accuracy= 0.5188\n",
      "Epoch  5, CIFAR-10 Batch 2:  Training: Accuracy=  0.55 , cost=  1.22395 , Validation: accuracy= 0.4882\n",
      "Epoch  5, CIFAR-10 Batch 3:  Training: Accuracy=  0.625 , cost=  1.07576 , Validation: accuracy= 0.5174\n",
      "Epoch  5, CIFAR-10 Batch 4:  Training: Accuracy=  0.575 , cost=  1.1904 , Validation: accuracy= 0.5388\n",
      "Epoch  5, CIFAR-10 Batch 5:  Training: Accuracy=  0.525 , cost=  1.35938 , Validation: accuracy= 0.5354\n",
      "Epoch  6, CIFAR-10 Batch 1:  Training: Accuracy=  0.5 , cost=  1.32955 , Validation: accuracy= 0.5482\n",
      "Epoch  6, CIFAR-10 Batch 2:  Training: Accuracy=  0.5 , cost=  1.17735 , Validation: accuracy= 0.5268\n",
      "Epoch  6, CIFAR-10 Batch 3:  Training: Accuracy=  0.65 , cost=  1.04429 , Validation: accuracy= 0.5268\n",
      "Epoch  6, CIFAR-10 Batch 4:  Training: Accuracy=  0.65 , cost=  1.09902 , Validation: accuracy= 0.5554\n",
      "Epoch  6, CIFAR-10 Batch 5:  Training: Accuracy=  0.575 , cost=  1.2699 , Validation: accuracy= 0.537\n",
      "Epoch  7, CIFAR-10 Batch 1:  Training: Accuracy=  0.525 , cost=  1.31617 , Validation: accuracy= 0.5496\n",
      "Epoch  7, CIFAR-10 Batch 2:  Training: Accuracy=  0.575 , cost=  1.05721 , Validation: accuracy= 0.5498\n",
      "Epoch  7, CIFAR-10 Batch 3:  Training: Accuracy=  0.725 , cost=  0.952939 , Validation: accuracy= 0.5584\n",
      "Epoch  7, CIFAR-10 Batch 4:  Training: Accuracy=  0.75 , cost=  1.01612 , Validation: accuracy= 0.567\n",
      "Epoch  7, CIFAR-10 Batch 5:  Training: Accuracy=  0.625 , cost=  1.27704 , Validation: accuracy= 0.5664\n",
      "Epoch  8, CIFAR-10 Batch 1:  Training: Accuracy=  0.55 , cost=  1.27802 , Validation: accuracy= 0.5684\n",
      "Epoch  8, CIFAR-10 Batch 2:  Training: Accuracy=  0.55 , cost=  1.0857 , Validation: accuracy= 0.5536\n",
      "Epoch  8, CIFAR-10 Batch 3:  Training: Accuracy=  0.675 , cost=  0.921819 , Validation: accuracy= 0.5682\n",
      "Epoch  8, CIFAR-10 Batch 4:  Training: Accuracy=  0.7 , cost=  1.02587 , Validation: accuracy= 0.5766\n",
      "Epoch  8, CIFAR-10 Batch 5:  Training: Accuracy=  0.625 , cost=  1.16811 , Validation: accuracy= 0.576\n",
      "Epoch  9, CIFAR-10 Batch 1:  Training: Accuracy=  0.575 , cost=  1.1851 , Validation: accuracy= 0.5658\n",
      "Epoch  9, CIFAR-10 Batch 2:  Training: Accuracy=  0.6 , cost=  1.02225 , Validation: accuracy= 0.574\n",
      "Epoch  9, CIFAR-10 Batch 3:  Training: Accuracy=  0.7 , cost=  0.871072 , Validation: accuracy= 0.577\n",
      "Epoch  9, CIFAR-10 Batch 4:  Training: Accuracy=  0.725 , cost=  0.969007 , Validation: accuracy= 0.5778\n",
      "Epoch  9, CIFAR-10 Batch 5:  Training: Accuracy=  0.575 , cost=  1.1265 , Validation: accuracy= 0.5798\n",
      "Epoch 10, CIFAR-10 Batch 1:  Training: Accuracy=  0.6 , cost=  1.05306 , Validation: accuracy= 0.5982\n",
      "Epoch 10, CIFAR-10 Batch 2:  Training: Accuracy=  0.575 , cost=  0.989142 , Validation: accuracy= 0.5748\n",
      "Epoch 10, CIFAR-10 Batch 3:  Training: Accuracy=  0.65 , cost=  0.861324 , Validation: accuracy= 0.5726\n",
      "Epoch 10, CIFAR-10 Batch 4:  Training: Accuracy=  0.725 , cost=  0.948708 , Validation: accuracy= 0.5986\n",
      "Epoch 10, CIFAR-10 Batch 5:  Training: Accuracy=  0.6 , cost=  1.12215 , Validation: accuracy= 0.5778\n",
      "Epoch 11, CIFAR-10 Batch 1:  Training: Accuracy=  0.65 , cost=  1.02211 , Validation: accuracy= 0.59\n",
      "Epoch 11, CIFAR-10 Batch 2:  Training: Accuracy=  0.6 , cost=  0.952575 , Validation: accuracy= 0.589\n",
      "Epoch 11, CIFAR-10 Batch 3:  Training: Accuracy=  0.7 , cost=  0.774478 , Validation: accuracy= 0.592\n",
      "Epoch 11, CIFAR-10 Batch 4:  Training: Accuracy=  0.725 , cost=  0.830616 , Validation: accuracy= 0.6084\n",
      "Epoch 11, CIFAR-10 Batch 5:  Training: Accuracy=  0.65 , cost=  1.04533 , Validation: accuracy= 0.6024\n",
      "Epoch 12, CIFAR-10 Batch 1:  Training: Accuracy=  0.6 , cost=  1.02995 , Validation: accuracy= 0.6132\n",
      "Epoch 12, CIFAR-10 Batch 2:  Training: Accuracy=  0.675 , cost=  0.869983 , Validation: accuracy= 0.6008\n",
      "Epoch 12, CIFAR-10 Batch 3:  Training: Accuracy=  0.8 , cost=  0.782323 , Validation: accuracy= 0.6022\n",
      "Epoch 12, CIFAR-10 Batch 4:  Training: Accuracy=  0.65 , cost=  0.835785 , Validation: accuracy= 0.6102\n",
      "Epoch 12, CIFAR-10 Batch 5:  Training: Accuracy=  0.625 , cost=  0.948679 , Validation: accuracy= 0.6022\n",
      "Epoch 13, CIFAR-10 Batch 1:  Training: Accuracy=  0.575 , cost=  0.990401 , Validation: accuracy= 0.6188\n",
      "Epoch 13, CIFAR-10 Batch 2:  Training: Accuracy=  0.725 , cost=  0.812496 , Validation: accuracy= 0.606\n",
      "Epoch 13, CIFAR-10 Batch 3:  Training: Accuracy=  0.775 , cost=  0.740823 , Validation: accuracy= 0.6144\n",
      "Epoch 13, CIFAR-10 Batch 4:  Training: Accuracy=  0.7 , cost=  0.789672 , Validation: accuracy= 0.6134\n",
      "Epoch 13, CIFAR-10 Batch 5:  Training: Accuracy=  0.625 , cost=  0.926601 , Validation: accuracy= 0.6092\n",
      "Epoch 14, CIFAR-10 Batch 1:  Training: Accuracy=  0.65 , cost=  0.910644 , Validation: accuracy= 0.6266\n",
      "Epoch 14, CIFAR-10 Batch 2:  Training: Accuracy=  0.65 , cost=  0.818975 , Validation: accuracy= 0.6022\n",
      "Epoch 14, CIFAR-10 Batch 3:  Training: Accuracy=  0.75 , cost=  0.713431 , Validation: accuracy= 0.616\n",
      "Epoch 14, CIFAR-10 Batch 4:  Training: Accuracy=  0.675 , cost=  0.770033 , Validation: accuracy= 0.6172\n",
      "Epoch 14, CIFAR-10 Batch 5:  Training: Accuracy=  0.725 , cost=  0.85263 , Validation: accuracy= 0.6062\n",
      "Epoch 15, CIFAR-10 Batch 1:  Training: Accuracy=  0.625 , cost=  0.874172 , Validation: accuracy= 0.6222\n",
      "Epoch 15, CIFAR-10 Batch 2:  Training: Accuracy=  0.7 , cost=  0.758339 , Validation: accuracy= 0.6022\n",
      "Epoch 15, CIFAR-10 Batch 3:  Training: Accuracy=  0.775 , cost=  0.671471 , Validation: accuracy= 0.614\n",
      "Epoch 15, CIFAR-10 Batch 4:  Training: Accuracy=  0.7 , cost=  0.777331 , Validation: accuracy= 0.625\n",
      "Epoch 15, CIFAR-10 Batch 5:  Training: Accuracy=  0.775 , cost=  0.843694 , Validation: accuracy= 0.6092\n",
      "Epoch 16, CIFAR-10 Batch 1:  Training: Accuracy=  0.725 , cost=  0.825129 , Validation: accuracy= 0.6238\n",
      "Epoch 16, CIFAR-10 Batch 2:  Training: Accuracy=  0.7 , cost=  0.746969 , Validation: accuracy= 0.6024\n",
      "Epoch 16, CIFAR-10 Batch 3:  Training: Accuracy=  0.825 , cost=  0.601791 , Validation: accuracy= 0.6076\n",
      "Epoch 16, CIFAR-10 Batch 4:  Training: Accuracy=  0.725 , cost=  0.69215 , Validation: accuracy= 0.6306\n"
     ]
    },
    {
     "name": "stdout",
     "output_type": "stream",
     "text": [
      "Epoch 16, CIFAR-10 Batch 5:  Training: Accuracy=  0.75 , cost=  0.859501 , Validation: accuracy= 0.6002\n",
      "Epoch 17, CIFAR-10 Batch 1:  Training: Accuracy=  0.7 , cost=  0.839786 , Validation: accuracy= 0.627\n",
      "Epoch 17, CIFAR-10 Batch 2:  Training: Accuracy=  0.675 , cost=  0.81627 , Validation: accuracy= 0.6222\n",
      "Epoch 17, CIFAR-10 Batch 3:  Training: Accuracy=  0.775 , cost=  0.654351 , Validation: accuracy= 0.6252\n",
      "Epoch 17, CIFAR-10 Batch 4:  Training: Accuracy=  0.725 , cost=  0.686409 , Validation: accuracy= 0.639\n",
      "Epoch 17, CIFAR-10 Batch 5:  Training: Accuracy=  0.75 , cost=  0.834488 , Validation: accuracy= 0.5998\n",
      "Epoch 18, CIFAR-10 Batch 1:  Training: Accuracy=  0.75 , cost=  0.815593 , Validation: accuracy= 0.6366\n",
      "Epoch 18, CIFAR-10 Batch 2:  Training: Accuracy=  0.675 , cost=  0.774771 , Validation: accuracy= 0.6248\n",
      "Epoch 18, CIFAR-10 Batch 3:  Training: Accuracy=  0.775 , cost=  0.598207 , Validation: accuracy= 0.6274\n",
      "Epoch 18, CIFAR-10 Batch 4:  Training: Accuracy=  0.775 , cost=  0.660801 , Validation: accuracy= 0.632\n",
      "Epoch 18, CIFAR-10 Batch 5:  Training: Accuracy=  0.775 , cost=  0.738768 , Validation: accuracy= 0.6322\n",
      "Epoch 19, CIFAR-10 Batch 1:  Training: Accuracy=  0.8 , cost=  0.722348 , Validation: accuracy= 0.6382\n",
      "Epoch 19, CIFAR-10 Batch 2:  Training: Accuracy=  0.7 , cost=  0.691168 , Validation: accuracy= 0.625\n",
      "Epoch 19, CIFAR-10 Batch 3:  Training: Accuracy=  0.8 , cost=  0.580534 , Validation: accuracy= 0.6426\n",
      "Epoch 19, CIFAR-10 Batch 4:  Training: Accuracy=  0.75 , cost=  0.65763 , Validation: accuracy= 0.64\n",
      "Epoch 19, CIFAR-10 Batch 5:  Training: Accuracy=  0.825 , cost=  0.759281 , Validation: accuracy= 0.624\n",
      "Epoch 20, CIFAR-10 Batch 1:  Training: Accuracy=  0.775 , cost=  0.697537 , Validation: accuracy= 0.6344\n",
      "Epoch 20, CIFAR-10 Batch 2:  Training: Accuracy=  0.75 , cost=  0.660187 , Validation: accuracy= 0.6316\n",
      "Epoch 20, CIFAR-10 Batch 3:  Training: Accuracy=  0.875 , cost=  0.477511 , Validation: accuracy= 0.6448\n",
      "Epoch 20, CIFAR-10 Batch 4:  Training: Accuracy=  0.775 , cost=  0.589432 , Validation: accuracy= 0.6352\n",
      "Epoch 20, CIFAR-10 Batch 5:  Training: Accuracy=  0.75 , cost=  0.76848 , Validation: accuracy= 0.6056\n",
      "Epoch 21, CIFAR-10 Batch 1:  Training: Accuracy=  0.775 , cost=  0.69027 , Validation: accuracy= 0.6488\n",
      "Epoch 21, CIFAR-10 Batch 2:  Training: Accuracy=  0.75 , cost=  0.623319 , Validation: accuracy= 0.6384\n",
      "Epoch 21, CIFAR-10 Batch 3:  Training: Accuracy=  0.85 , cost=  0.515502 , Validation: accuracy= 0.6426\n",
      "Epoch 21, CIFAR-10 Batch 4:  Training: Accuracy=  0.75 , cost=  0.61955 , Validation: accuracy= 0.6444\n",
      "Epoch 21, CIFAR-10 Batch 5:  Training: Accuracy=  0.825 , cost=  0.625096 , Validation: accuracy= 0.644\n",
      "Epoch 22, CIFAR-10 Batch 1:  Training: Accuracy=  0.75 , cost=  0.668495 , Validation: accuracy= 0.654\n",
      "Epoch 22, CIFAR-10 Batch 2:  Training: Accuracy=  0.75 , cost=  0.63553 , Validation: accuracy= 0.6434\n",
      "Epoch 22, CIFAR-10 Batch 3:  Training: Accuracy=  0.85 , cost=  0.450965 , Validation: accuracy= 0.644\n",
      "Epoch 22, CIFAR-10 Batch 4:  Training: Accuracy=  0.7 , cost=  0.612952 , Validation: accuracy= 0.6464\n",
      "Epoch 22, CIFAR-10 Batch 5:  Training: Accuracy=  0.75 , cost=  0.650092 , Validation: accuracy= 0.641\n",
      "Epoch 23, CIFAR-10 Batch 1:  Training: Accuracy=  0.75 , cost=  0.674168 , Validation: accuracy= 0.6572\n",
      "Epoch 23, CIFAR-10 Batch 2:  Training: Accuracy=  0.75 , cost=  0.597723 , Validation: accuracy= 0.644\n",
      "Epoch 23, CIFAR-10 Batch 3:  Training: Accuracy=  0.85 , cost=  0.453428 , Validation: accuracy= 0.6456\n",
      "Epoch 23, CIFAR-10 Batch 4:  Training: Accuracy=  0.775 , cost=  0.54861 , Validation: accuracy= 0.6546\n",
      "Epoch 23, CIFAR-10 Batch 5:  Training: Accuracy=  0.775 , cost=  0.643678 , Validation: accuracy= 0.6402\n",
      "Epoch 24, CIFAR-10 Batch 1:  Training: Accuracy=  0.8 , cost=  0.596984 , Validation: accuracy= 0.654\n",
      "Epoch 24, CIFAR-10 Batch 2:  Training: Accuracy=  0.8 , cost=  0.569817 , Validation: accuracy= 0.643\n",
      "Epoch 24, CIFAR-10 Batch 3:  Training: Accuracy=  0.9 , cost=  0.394429 , Validation: accuracy= 0.6402\n",
      "Epoch 24, CIFAR-10 Batch 4:  Training: Accuracy=  0.8 , cost=  0.534145 , Validation: accuracy= 0.6478\n",
      "Epoch 24, CIFAR-10 Batch 5:  Training: Accuracy=  0.925 , cost=  0.570651 , Validation: accuracy= 0.6488\n",
      "Epoch 25, CIFAR-10 Batch 1:  Training: Accuracy=  0.8 , cost=  0.594281 , Validation: accuracy= 0.6564\n",
      "Epoch 25, CIFAR-10 Batch 2:  Training: Accuracy=  0.8 , cost=  0.537358 , Validation: accuracy= 0.6562\n",
      "Epoch 25, CIFAR-10 Batch 3:  Training: Accuracy=  0.85 , cost=  0.416111 , Validation: accuracy= 0.6564\n",
      "Epoch 25, CIFAR-10 Batch 4:  Training: Accuracy=  0.825 , cost=  0.548692 , Validation: accuracy= 0.6472\n",
      "Epoch 25, CIFAR-10 Batch 5:  Training: Accuracy=  0.825 , cost=  0.570414 , Validation: accuracy= 0.657\n",
      "Epoch 26, CIFAR-10 Batch 1:  Training: Accuracy=  0.85 , cost=  0.571606 , Validation: accuracy= 0.6564\n",
      "Epoch 26, CIFAR-10 Batch 2:  Training: Accuracy=  0.825 , cost=  0.531832 , Validation: accuracy= 0.658\n",
      "Epoch 26, CIFAR-10 Batch 3:  Training: Accuracy=  0.85 , cost=  0.388989 , Validation: accuracy= 0.6644\n",
      "Epoch 26, CIFAR-10 Batch 4:  Training: Accuracy=  0.75 , cost=  0.586656 , Validation: accuracy= 0.651\n",
      "Epoch 26, CIFAR-10 Batch 5:  Training: Accuracy=  0.8 , cost=  0.573865 , Validation: accuracy= 0.6446\n",
      "Epoch 27, CIFAR-10 Batch 1:  Training: Accuracy=  0.825 , cost=  0.545732 , Validation: accuracy= 0.6644\n",
      "Epoch 27, CIFAR-10 Batch 2:  Training: Accuracy=  0.775 , cost=  0.577907 , Validation: accuracy= 0.6604\n",
      "Epoch 27, CIFAR-10 Batch 3:  Training: Accuracy=  0.875 , cost=  0.389494 , Validation: accuracy= 0.6488\n",
      "Epoch 27, CIFAR-10 Batch 4:  Training: Accuracy=  0.85 , cost=  0.444816 , Validation: accuracy= 0.6642\n",
      "Epoch 27, CIFAR-10 Batch 5:  Training: Accuracy=  0.9 , cost=  0.54928 , Validation: accuracy= 0.6604\n",
      "Epoch 28, CIFAR-10 Batch 1:  Training: Accuracy=  0.85 , cost=  0.511328 , Validation: accuracy= 0.6616\n",
      "Epoch 28, CIFAR-10 Batch 2:  Training: Accuracy=  0.75 , cost=  0.5591 , Validation: accuracy= 0.6576\n",
      "Epoch 28, CIFAR-10 Batch 3:  Training: Accuracy=  0.875 , cost=  0.343644 , Validation: accuracy= 0.6618\n",
      "Epoch 28, CIFAR-10 Batch 4:  Training: Accuracy=  0.875 , cost=  0.445535 , Validation: accuracy= 0.6604\n",
      "Epoch 28, CIFAR-10 Batch 5:  Training: Accuracy=  0.85 , cost=  0.546651 , Validation: accuracy= 0.651\n",
      "Epoch 29, CIFAR-10 Batch 1:  Training: Accuracy=  0.825 , cost=  0.524228 , Validation: accuracy= 0.6646\n",
      "Epoch 29, CIFAR-10 Batch 2:  Training: Accuracy=  0.825 , cost=  0.499161 , Validation: accuracy= 0.6608\n",
      "Epoch 29, CIFAR-10 Batch 3:  Training: Accuracy=  0.9 , cost=  0.330993 , Validation: accuracy= 0.6718\n",
      "Epoch 29, CIFAR-10 Batch 4:  Training: Accuracy=  0.825 , cost=  0.519468 , Validation: accuracy= 0.6638\n",
      "Epoch 29, CIFAR-10 Batch 5:  Training: Accuracy=  0.825 , cost=  0.605225 , Validation: accuracy= 0.6422\n",
      "Epoch 30, CIFAR-10 Batch 1:  Training: Accuracy=  0.875 , cost=  0.450002 , Validation: accuracy= 0.67\n",
      "Epoch 30, CIFAR-10 Batch 2:  Training: Accuracy=  0.75 , cost=  0.554236 , Validation: accuracy= 0.6558\n",
      "Epoch 30, CIFAR-10 Batch 3:  Training: Accuracy=  0.925 , cost=  0.326779 , Validation: accuracy= 0.663\n",
      "Epoch 30, CIFAR-10 Batch 4:  Training: Accuracy=  0.825 , cost=  0.46233 , Validation: accuracy= 0.6686\n",
      "Epoch 30, CIFAR-10 Batch 5:  Training: Accuracy=  0.825 , cost=  0.573159 , Validation: accuracy= 0.6426\n",
      "Epoch 31, CIFAR-10 Batch 1:  Training: Accuracy=  0.825 , cost=  0.474218 , Validation: accuracy= 0.6776\n",
      "Epoch 31, CIFAR-10 Batch 2:  Training: Accuracy=  0.85 , cost=  0.51904 , Validation: accuracy= 0.6726\n",
      "Epoch 31, CIFAR-10 Batch 3:  Training: Accuracy=  0.875 , cost=  0.334885 , Validation: accuracy= 0.663\n",
      "Epoch 31, CIFAR-10 Batch 4:  Training: Accuracy=  0.925 , cost=  0.445736 , Validation: accuracy= 0.6616\n",
      "Epoch 31, CIFAR-10 Batch 5:  Training: Accuracy=  0.85 , cost=  0.485047 , Validation: accuracy= 0.6628\n",
      "Epoch 32, CIFAR-10 Batch 1:  Training: Accuracy=  0.825 , cost=  0.470275 , Validation: accuracy= 0.6672\n",
      "Epoch 32, CIFAR-10 Batch 2:  Training: Accuracy=  0.825 , cost=  0.460456 , Validation: accuracy= 0.6706\n",
      "Epoch 32, CIFAR-10 Batch 3:  Training: Accuracy=  0.925 , cost=  0.30325 , Validation: accuracy= 0.6626\n"
     ]
    },
    {
     "name": "stdout",
     "output_type": "stream",
     "text": [
      "Epoch 32, CIFAR-10 Batch 4:  Training: Accuracy=  0.825 , cost=  0.442816 , Validation: accuracy= 0.661\n",
      "Epoch 32, CIFAR-10 Batch 5:  Training: Accuracy=  0.825 , cost=  0.524464 , Validation: accuracy= 0.6512\n",
      "Epoch 33, CIFAR-10 Batch 1:  Training: Accuracy=  0.85 , cost=  0.445876 , Validation: accuracy= 0.6782\n",
      "Epoch 33, CIFAR-10 Batch 2:  Training: Accuracy=  0.825 , cost=  0.483019 , Validation: accuracy= 0.6724\n",
      "Epoch 33, CIFAR-10 Batch 3:  Training: Accuracy=  0.925 , cost=  0.315845 , Validation: accuracy= 0.6666\n",
      "Epoch 33, CIFAR-10 Batch 4:  Training: Accuracy=  0.925 , cost=  0.365561 , Validation: accuracy= 0.6732\n",
      "Epoch 33, CIFAR-10 Batch 5:  Training: Accuracy=  0.875 , cost=  0.525343 , Validation: accuracy= 0.6636\n",
      "Epoch 34, CIFAR-10 Batch 1:  Training: Accuracy=  0.875 , cost=  0.467467 , Validation: accuracy= 0.6756\n",
      "Epoch 34, CIFAR-10 Batch 2:  Training: Accuracy=  0.85 , cost=  0.488423 , Validation: accuracy= 0.6656\n",
      "Epoch 34, CIFAR-10 Batch 3:  Training: Accuracy=  0.9 , cost=  0.289104 , Validation: accuracy= 0.6664\n",
      "Epoch 34, CIFAR-10 Batch 4:  Training: Accuracy=  0.9 , cost=  0.381635 , Validation: accuracy= 0.6716\n",
      "Epoch 34, CIFAR-10 Batch 5:  Training: Accuracy=  0.875 , cost=  0.445381 , Validation: accuracy= 0.671\n",
      "Epoch 35, CIFAR-10 Batch 1:  Training: Accuracy=  0.875 , cost=  0.426089 , Validation: accuracy= 0.6766\n",
      "Epoch 35, CIFAR-10 Batch 2:  Training: Accuracy=  0.825 , cost=  0.430921 , Validation: accuracy= 0.6696\n",
      "Epoch 35, CIFAR-10 Batch 3:  Training: Accuracy=  0.9 , cost=  0.285933 , Validation: accuracy= 0.6622\n",
      "Epoch 35, CIFAR-10 Batch 4:  Training: Accuracy=  0.9 , cost=  0.377761 , Validation: accuracy= 0.6706\n",
      "Epoch 35, CIFAR-10 Batch 5:  Training: Accuracy=  0.9 , cost=  0.46102 , Validation: accuracy= 0.66\n",
      "Epoch 36, CIFAR-10 Batch 1:  Training: Accuracy=  0.9 , cost=  0.366773 , Validation: accuracy= 0.681\n",
      "Epoch 36, CIFAR-10 Batch 2:  Training: Accuracy=  0.875 , cost=  0.435503 , Validation: accuracy= 0.6672\n",
      "Epoch 36, CIFAR-10 Batch 3:  Training: Accuracy=  0.925 , cost=  0.297153 , Validation: accuracy= 0.6686\n",
      "Epoch 36, CIFAR-10 Batch 4:  Training: Accuracy=  0.875 , cost=  0.36827 , Validation: accuracy= 0.6792\n",
      "Epoch 36, CIFAR-10 Batch 5:  Training: Accuracy=  0.9 , cost=  0.415142 , Validation: accuracy= 0.6726\n",
      "Epoch 37, CIFAR-10 Batch 1:  Training: Accuracy=  0.85 , cost=  0.432616 , Validation: accuracy= 0.6726\n",
      "Epoch 37, CIFAR-10 Batch 2:  Training: Accuracy=  0.875 , cost=  0.418408 , Validation: accuracy= 0.6752\n",
      "Epoch 37, CIFAR-10 Batch 3:  Training: Accuracy=  0.975 , cost=  0.262867 , Validation: accuracy= 0.6766\n",
      "Epoch 37, CIFAR-10 Batch 4:  Training: Accuracy=  0.9 , cost=  0.310117 , Validation: accuracy= 0.6792\n",
      "Epoch 37, CIFAR-10 Batch 5:  Training: Accuracy=  0.9 , cost=  0.40081 , Validation: accuracy= 0.6774\n",
      "Epoch 38, CIFAR-10 Batch 1:  Training: Accuracy=  0.875 , cost=  0.425822 , Validation: accuracy= 0.6734\n",
      "Epoch 38, CIFAR-10 Batch 2:  Training: Accuracy=  0.875 , cost=  0.421724 , Validation: accuracy= 0.6712\n",
      "Epoch 38, CIFAR-10 Batch 3:  Training: Accuracy=  0.925 , cost=  0.265633 , Validation: accuracy= 0.6608\n",
      "Epoch 38, CIFAR-10 Batch 4:  Training: Accuracy=  0.9 , cost=  0.313286 , Validation: accuracy= 0.6866\n",
      "Epoch 38, CIFAR-10 Batch 5:  Training: Accuracy=  0.875 , cost=  0.437132 , Validation: accuracy= 0.6606\n",
      "Epoch 39, CIFAR-10 Batch 1:  Training: Accuracy=  0.825 , cost=  0.422534 , Validation: accuracy= 0.6788\n",
      "Epoch 39, CIFAR-10 Batch 2:  Training: Accuracy=  0.85 , cost=  0.417985 , Validation: accuracy= 0.6778\n",
      "Epoch 39, CIFAR-10 Batch 3:  Training: Accuracy=  0.975 , cost=  0.265355 , Validation: accuracy= 0.6754\n",
      "Epoch 39, CIFAR-10 Batch 4:  Training: Accuracy=  0.9 , cost=  0.315805 , Validation: accuracy= 0.685\n",
      "Epoch 39, CIFAR-10 Batch 5:  Training: Accuracy=  0.9 , cost=  0.402979 , Validation: accuracy= 0.6746\n",
      "Epoch 40, CIFAR-10 Batch 1:  Training: Accuracy=  0.925 , cost=  0.37681 , Validation: accuracy= 0.6854\n",
      "Epoch 40, CIFAR-10 Batch 2:  Training: Accuracy=  0.925 , cost=  0.355529 , Validation: accuracy= 0.6736\n",
      "Epoch 40, CIFAR-10 Batch 3:  Training: Accuracy=  0.95 , cost=  0.270856 , Validation: accuracy= 0.672\n",
      "Epoch 40, CIFAR-10 Batch 4:  Training: Accuracy=  0.925 , cost=  0.296573 , Validation: accuracy= 0.6828\n",
      "Epoch 40, CIFAR-10 Batch 5:  Training: Accuracy=  0.925 , cost=  0.386252 , Validation: accuracy= 0.6732\n",
      "Epoch 41, CIFAR-10 Batch 1:  Training: Accuracy=  0.875 , cost=  0.381055 , Validation: accuracy= 0.683\n",
      "Epoch 41, CIFAR-10 Batch 2:  Training: Accuracy=  0.925 , cost=  0.357414 , Validation: accuracy= 0.6772\n",
      "Epoch 41, CIFAR-10 Batch 3:  Training: Accuracy=  0.925 , cost=  0.260087 , Validation: accuracy= 0.6708\n",
      "Epoch 41, CIFAR-10 Batch 4:  Training: Accuracy=  0.975 , cost=  0.261244 , Validation: accuracy= 0.6806\n",
      "Epoch 41, CIFAR-10 Batch 5:  Training: Accuracy=  0.8 , cost=  0.424599 , Validation: accuracy= 0.6804\n",
      "Epoch 42, CIFAR-10 Batch 1:  Training: Accuracy=  0.925 , cost=  0.324897 , Validation: accuracy= 0.685\n",
      "Epoch 42, CIFAR-10 Batch 2:  Training: Accuracy=  0.925 , cost=  0.363595 , Validation: accuracy= 0.683\n",
      "Epoch 42, CIFAR-10 Batch 3:  Training: Accuracy=  1.0 , cost=  0.241326 , Validation: accuracy= 0.683\n",
      "Epoch 42, CIFAR-10 Batch 4:  Training: Accuracy=  0.875 , cost=  0.301506 , Validation: accuracy= 0.6844\n",
      "Epoch 42, CIFAR-10 Batch 5:  Training: Accuracy=  0.925 , cost=  0.370084 , Validation: accuracy= 0.6852\n",
      "Epoch 43, CIFAR-10 Batch 1:  Training: Accuracy=  0.875 , cost=  0.365817 , Validation: accuracy= 0.682\n",
      "Epoch 43, CIFAR-10 Batch 2:  Training: Accuracy=  0.925 , cost=  0.333717 , Validation: accuracy= 0.6818\n",
      "Epoch 43, CIFAR-10 Batch 3:  Training: Accuracy=  0.975 , cost=  0.240701 , Validation: accuracy= 0.6846\n",
      "Epoch 43, CIFAR-10 Batch 4:  Training: Accuracy=  0.9 , cost=  0.294754 , Validation: accuracy= 0.6888\n",
      "Epoch 43, CIFAR-10 Batch 5:  Training: Accuracy=  0.925 , cost=  0.313055 , Validation: accuracy= 0.6842\n",
      "Epoch 44, CIFAR-10 Batch 1:  Training: Accuracy=  0.9 , cost=  0.324153 , Validation: accuracy= 0.6758\n",
      "Epoch 44, CIFAR-10 Batch 2:  Training: Accuracy=  0.975 , cost=  0.311957 , Validation: accuracy= 0.6816\n",
      "Epoch 44, CIFAR-10 Batch 3:  Training: Accuracy=  1.0 , cost=  0.223982 , Validation: accuracy= 0.6866\n",
      "Epoch 44, CIFAR-10 Batch 4:  Training: Accuracy=  0.9 , cost=  0.283849 , Validation: accuracy= 0.6882\n",
      "Epoch 44, CIFAR-10 Batch 5:  Training: Accuracy=  0.925 , cost=  0.33737 , Validation: accuracy= 0.6916\n",
      "Epoch 45, CIFAR-10 Batch 1:  Training: Accuracy=  0.925 , cost=  0.295073 , Validation: accuracy= 0.6818\n",
      "Epoch 45, CIFAR-10 Batch 2:  Training: Accuracy=  0.975 , cost=  0.312565 , Validation: accuracy= 0.6832\n",
      "Epoch 45, CIFAR-10 Batch 3:  Training: Accuracy=  0.95 , cost=  0.245254 , Validation: accuracy= 0.686\n",
      "Epoch 45, CIFAR-10 Batch 4:  Training: Accuracy=  0.9 , cost=  0.313926 , Validation: accuracy= 0.695\n",
      "Epoch 45, CIFAR-10 Batch 5:  Training: Accuracy=  0.925 , cost=  0.30166 , Validation: accuracy= 0.6776\n",
      "Epoch 46, CIFAR-10 Batch 1:  Training: Accuracy=  0.925 , cost=  0.305605 , Validation: accuracy= 0.6856\n",
      "Epoch 46, CIFAR-10 Batch 2:  Training: Accuracy=  0.925 , cost=  0.316441 , Validation: accuracy= 0.676\n",
      "Epoch 46, CIFAR-10 Batch 3:  Training: Accuracy=  0.975 , cost=  0.219551 , Validation: accuracy= 0.6786\n",
      "Epoch 46, CIFAR-10 Batch 4:  Training: Accuracy=  0.95 , cost=  0.244282 , Validation: accuracy= 0.6858\n",
      "Epoch 46, CIFAR-10 Batch 5:  Training: Accuracy=  0.95 , cost=  0.300729 , Validation: accuracy= 0.6892\n",
      "Epoch 47, CIFAR-10 Batch 1:  Training: Accuracy=  0.975 , cost=  0.295663 , Validation: accuracy= 0.6812\n",
      "Epoch 47, CIFAR-10 Batch 2:  Training: Accuracy=  0.925 , cost=  0.308147 , Validation: accuracy= 0.6758\n",
      "Epoch 47, CIFAR-10 Batch 3:  Training: Accuracy=  1.0 , cost=  0.205467 , Validation: accuracy= 0.6868\n",
      "Epoch 47, CIFAR-10 Batch 4:  Training: Accuracy=  0.9 , cost=  0.284648 , Validation: accuracy= 0.6816\n",
      "Epoch 47, CIFAR-10 Batch 5:  Training: Accuracy=  0.95 , cost=  0.31492 , Validation: accuracy= 0.686\n",
      "Epoch 48, CIFAR-10 Batch 1:  Training: Accuracy=  0.925 , cost=  0.286558 , Validation: accuracy= 0.6888\n",
      "Epoch 48, CIFAR-10 Batch 2:  Training: Accuracy=  0.95 , cost=  0.308368 , Validation: accuracy= 0.6844\n"
     ]
    },
    {
     "name": "stdout",
     "output_type": "stream",
     "text": [
      "Epoch 48, CIFAR-10 Batch 3:  Training: Accuracy=  0.95 , cost=  0.240882 , Validation: accuracy= 0.688\n",
      "Epoch 48, CIFAR-10 Batch 4:  Training: Accuracy=  0.975 , cost=  0.244041 , Validation: accuracy= 0.6934\n",
      "Epoch 48, CIFAR-10 Batch 5:  Training: Accuracy=  0.975 , cost=  0.261361 , Validation: accuracy= 0.6876\n",
      "Epoch 49, CIFAR-10 Batch 1:  Training: Accuracy=  0.925 , cost=  0.300061 , Validation: accuracy= 0.696\n",
      "Epoch 49, CIFAR-10 Batch 2:  Training: Accuracy=  0.925 , cost=  0.305922 , Validation: accuracy= 0.6828\n",
      "Epoch 49, CIFAR-10 Batch 3:  Training: Accuracy=  0.975 , cost=  0.213429 , Validation: accuracy= 0.6728\n",
      "Epoch 49, CIFAR-10 Batch 4:  Training: Accuracy=  1.0 , cost=  0.225351 , Validation: accuracy= 0.6876\n",
      "Epoch 49, CIFAR-10 Batch 5:  Training: Accuracy=  0.925 , cost=  0.279593 , Validation: accuracy= 0.6842\n",
      "Epoch 50, CIFAR-10 Batch 1:  Training: Accuracy=  0.95 , cost=  0.280391 , Validation: accuracy= 0.6874\n",
      "Epoch 50, CIFAR-10 Batch 2:  Training: Accuracy=  0.95 , cost=  0.265983 , Validation: accuracy= 0.684\n",
      "Epoch 50, CIFAR-10 Batch 3:  Training: Accuracy=  1.0 , cost=  0.179925 , Validation: accuracy= 0.6834\n",
      "Epoch 50, CIFAR-10 Batch 4:  Training: Accuracy=  0.925 , cost=  0.275147 , Validation: accuracy= 0.6876\n",
      "Epoch 50, CIFAR-10 Batch 5:  Training: Accuracy=  0.925 , cost=  0.278729 , Validation: accuracy= 0.6924\n"
     ]
    }
   ],
   "source": [
    "\"\"\"\n",
    "DON'T MODIFY ANYTHING IN THIS CELL\n",
    "\"\"\"\n",
    "save_model_path = './image_classification'\n",
    "\n",
    "print('Training...')\n",
    "with tf.Session() as sess:\n",
    "    # Initializing the variables\n",
    "    sess.run(tf.global_variables_initializer())\n",
    "    \n",
    "    # Training cycle\n",
    "    for epoch in range(epochs):\n",
    "        # Loop over all batches\n",
    "        n_batches = 5\n",
    "        for batch_i in range(1, n_batches + 1):\n",
    "            for batch_features, batch_labels in helper.load_preprocess_training_batch(batch_i, batch_size):\n",
    "                train_neural_network(sess, optimizer, keep_probability, batch_features, batch_labels)\n",
    "            print('Epoch {:>2}, CIFAR-10 Batch {}:  '.format(epoch + 1, batch_i), end='')\n",
    "            print_stats(sess, batch_features, batch_labels, cost, accuracy)\n",
    "            \n",
    "    # Save Model\n",
    "    saver = tf.train.Saver()\n",
    "    save_path = saver.save(sess, save_model_path)"
   ]
  },
  {
   "cell_type": "markdown",
   "metadata": {},
   "source": [
    "# Checkpoint\n",
    "The model has been saved to disk.\n",
    "## Test Model\n",
    "Test your model against the test dataset.  This will be your final accuracy. You should have an accuracy greater than 50%. If you don't, keep tweaking the model architecture and parameters."
   ]
  },
  {
   "cell_type": "code",
   "execution_count": 68,
   "metadata": {},
   "outputs": [
    {
     "name": "stdout",
     "output_type": "stream",
     "text": [
      "INFO:tensorflow:Restoring parameters from ./image_classification\n",
      "Testing Accuracy: 0.6907634493670886\n",
      "\n"
     ]
    },
    {
     "data": {
      "image/png": "[encoded data removed]",
      "text/plain": [
       "<matplotlib.figure.Figure at 0x120debba8>"
      ]
     },
     "metadata": {
      "image/png": {
       "height": 319,
       "width": 355
      }
     },
     "output_type": "display_data"
    }
   ],
   "source": [
    "\"\"\"\n",
    "DON'T MODIFY ANYTHING IN THIS CELL\n",
    "\"\"\"\n",
    "%matplotlib inline\n",
    "%config InlineBackend.figure_format = 'retina'\n",
    "\n",
    "import tensorflow as tf\n",
    "import pickle\n",
    "import helper\n",
    "import random\n",
    "\n",
    "# Set batch size if not already set\n",
    "try:\n",
    "    if batch_size:\n",
    "        pass\n",
    "except NameError:\n",
    "    batch_size = 64\n",
    "\n",
    "save_model_path = './image_classification'\n",
    "n_samples = 4\n",
    "top_n_predictions = 3\n",
    "\n",
    "def test_model():\n",
    "    \"\"\"\n",
    "    Test the saved model against the test dataset\n",
    "    \"\"\"\n",
    "\n",
    "    test_features, test_labels = pickle.load(open('preprocess_test.p', mode='rb'))\n",
    "    loaded_graph = tf.Graph()\n",
    "\n",
    "    with tf.Session(graph=loaded_graph) as sess:\n",
    "        # Load model\n",
    "        loader = tf.train.import_meta_graph(save_model_path + '.meta')\n",
    "        loader.restore(sess, save_model_path)\n",
    "\n",
    "        # Get Tensors from loaded model\n",
    "        loaded_x = loaded_graph.get_tensor_by_name('x:0')\n",
    "        loaded_y = loaded_graph.get_tensor_by_name('y:0')\n",
    "        loaded_keep_prob = loaded_graph.get_tensor_by_name('keep_prob:0')\n",
    "        loaded_logits = loaded_graph.get_tensor_by_name('logits:0')\n",
    "        loaded_acc = loaded_graph.get_tensor_by_name('accuracy:0')\n",
    "        \n",
    "        # Get accuracy in batches for memory limitations\n",
    "        test_batch_acc_total = 0\n",
    "        test_batch_count = 0\n",
    "        \n",
    "        for test_feature_batch, test_label_batch in helper.batch_features_labels(test_features, test_labels, batch_size):\n",
    "            test_batch_acc_total += sess.run(\n",
    "                loaded_acc,\n",
    "                feed_dict={loaded_x: test_feature_batch, loaded_y: test_label_batch, loaded_keep_prob: 1.0})\n",
    "            test_batch_count += 1\n",
    "\n",
    "        print('Testing Accuracy: {}\\n'.format(test_batch_acc_total/test_batch_count))\n",
    "\n",
    "        # Print Random Samples\n",
    "        random_test_features, random_test_labels = tuple(zip(*random.sample(list(zip(test_features, test_labels)), n_samples)))\n",
    "        random_test_predictions = sess.run(\n",
    "            tf.nn.top_k(tf.nn.softmax(loaded_logits), top_n_predictions),\n",
    "            feed_dict={loaded_x: random_test_features, loaded_y: random_test_labels, loaded_keep_prob: 1.0})\n",
    "        helper.display_image_predictions(random_test_features, random_test_labels, random_test_predictions)\n",
    "\n",
    "\n",
    "test_model()"
   ]
  },
  {
   "cell_type": "markdown",
   "metadata": {},
   "source": [
    "## Why 50-80% Accuracy?\n",
    "You might be wondering why you can't get an accuracy any higher. First things first, 50% isn't bad for a simple CNN.  Pure guessing would get you 10% accuracy. However, you might notice people are getting scores [well above 80%](http://rodrigob.github.io/are_we_there_yet/build/classification_datasets_results.html#43494641522d3130).  That's because we haven't taught you all there is to know about neural networks. We still need to cover a few more techniques.\n",
    "## Submitting This Project\n",
    "When submitting this project, make sure to run all the cells before saving the notebook.  Save the notebook file as \"dlnd_image_classification.ipynb\" and save it as a HTML file under \"File\" -> \"Download as\".  Include the \"helper.py\" and \"problem_unittests.py\" files in your submission."
   ]
  }
 ],
 "metadata": {
  "kernelspec": {
   "display_name": "Python 3",
   "language": "python",
   "name": "python3"
  },
  "language_info": {
   "codemirror_mode": {
    "name": "ipython",
    "version": 3
   },
   "file_extension": ".py",
   "mimetype": "text/x-python",
   "name": "python",
   "nbconvert_exporter": "python",
   "pygments_lexer": "ipython3",
   "version": "3.6.1"
  }
 },
 "nbformat": 4,
 "nbformat_minor": 1
}
